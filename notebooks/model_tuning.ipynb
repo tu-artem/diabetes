{
 "cells": [
  {
   "cell_type": "code",
   "execution_count": 1,
   "metadata": {},
   "outputs": [],
   "source": [
    "import sys\n",
    "import os\n",
    "\n",
    "sys.path.append(\"..\")"
   ]
  },
  {
   "cell_type": "code",
   "execution_count": 10,
   "metadata": {},
   "outputs": [],
   "source": [
    "import pickle\n",
    "import json\n",
    "\n",
    "import pandas as pd\n",
    "\n",
    "from sklearn.preprocessing import OneHotEncoder, StandardScaler\n",
    "from sklearn.compose import ColumnTransformer\n",
    "from sklearn.model_selection import train_test_split, GridSearchCV\n",
    "\n",
    "from xgboost import XGBClassifier\n",
    "\n",
    "from utils import evaluate_model"
   ]
  },
  {
   "cell_type": "code",
   "execution_count": 12,
   "metadata": {},
   "outputs": [],
   "source": [
    "data = pd.read_csv(\"../data/raw/Chapter_3_Diabetes_data.csv\", low_memory=False)"
   ]
  },
  {
   "cell_type": "code",
   "execution_count": 13,
   "metadata": {},
   "outputs": [],
   "source": [
    "data[\"race\"] = data[\"race\"].fillna(\"Other\")\n",
    "data[\"medical_specialty\"] = data[\"medical_specialty\"].fillna(\"NA\")\n",
    "data[\"payer_code\"] = data[\"payer_code\"].fillna(\"NA\")\n",
    "\n",
    "age_mapping = {\n",
    "    \"[0-10)\": 10,\n",
    "    \"[10-20)\": 20,\n",
    "    \"[20-30)\": 30,\n",
    "    \"[30-40)\": 40,\n",
    "    \"[40-50)\": 50,\n",
    "    \"[50-60)\": 60,\n",
    "    \"[60-70)\": 70,\n",
    "    \"[70-80)\": 80,\n",
    "    \"[80-90)\": 90,\n",
    "    \"[90-100)\": 100\n",
    "}\n",
    "data[\"age\"] = data[\"age\"].replace(age_mapping)\n",
    "\n",
    "categorical = [\n",
    "    \"encounter_id\",\n",
    "    \"patient_nbr\",\n",
    "    \"admission_type_id\",\n",
    "    \"discharge_disposition_id\",\n",
    "    \"admission_source_id\"\n",
    "]\n",
    "for variable in categorical:\n",
    "    data[variable] = pd.Categorical(data[variable])"
   ]
  },
  {
   "cell_type": "code",
   "execution_count": 14,
   "metadata": {},
   "outputs": [],
   "source": [
    "data.drop_duplicates(inplace=True)"
   ]
  },
  {
   "cell_type": "code",
   "execution_count": 15,
   "metadata": {},
   "outputs": [],
   "source": [
    "rows_per_patient = data.groupby('patient_nbr')[\"encounter_id\"].count()\n",
    "data = data.merge(rows_per_patient, on='patient_nbr', suffixes=(\"\", \"_count\"))\n",
    "data[\"running_count\"] = data.groupby(\"patient_nbr\").cumcount()\n",
    "\n",
    "data[\"target\"] = data[\"readmitted\"] == \"<30\""
   ]
  },
  {
   "cell_type": "code",
   "execution_count": 16,
   "metadata": {},
   "outputs": [],
   "source": [
    "data.set_index(\"encounter_id\", inplace=True)"
   ]
  },
  {
   "cell_type": "code",
   "execution_count": 17,
   "metadata": {},
   "outputs": [],
   "source": [
    "not_train_columns = [\n",
    "           \"patient_nbr\",\n",
    "           \"payer_code\",\n",
    "           \"medical_specialty\",\n",
    "           \"weight\",\n",
    "           \"diag_1\",\n",
    "           \"diag_2\",\n",
    "           \"diag_3\",\n",
    "           \"change\",\n",
    "           \"examide\",\n",
    "           \"citoglipton\",\n",
    "           \"diabetesMed\",\n",
    "           \"readmitted\",\n",
    "           \"running_count\",\n",
    "           \"encounter_id_count\",\n",
    "           \"target\"]\n",
    "\n",
    "\n",
    "data = data.sort_values(by=\"encounter_id\")"
   ]
  },
  {
   "cell_type": "code",
   "execution_count": 18,
   "metadata": {},
   "outputs": [
    {
     "name": "stderr",
     "output_type": "stream",
     "text": [
      "C:\\Users\\artem.tuisuzov\\Continuum\\anaconda3\\envs\\datascience\\lib\\site-packages\\sklearn\\preprocessing\\data.py:625: DataConversionWarning: Data with input dtype int64 were all converted to float64 by StandardScaler.\n",
      "  return self.partial_fit(X, y)\n",
      "C:\\Users\\artem.tuisuzov\\Continuum\\anaconda3\\envs\\datascience\\lib\\site-packages\\sklearn\\base.py:462: DataConversionWarning: Data with input dtype int64 were all converted to float64 by StandardScaler.\n",
      "  return self.fit(X, **fit_params).transform(X)\n",
      "C:\\Users\\artem.tuisuzov\\Continuum\\anaconda3\\envs\\datascience\\lib\\site-packages\\sklearn\\pipeline.py:605: DataConversionWarning: Data with input dtype int64 were all converted to float64 by StandardScaler.\n",
      "  res = transformer.transform(X)\n"
     ]
    }
   ],
   "source": [
    "x_train, x_test, y_train, y_test = train_test_split(\n",
    "    data.drop(not_train_columns, axis=1),\n",
    "    data[\"target\"],\n",
    "    shuffle=False,\n",
    "    test_size=0.20)\n",
    "\n",
    "# categorical_features = np.where(x_train.dtypes != \"int64\")[0]\n",
    "\n",
    "cat = [t != \"int64\" for t in x_train.dtypes]\n",
    "num = [t == \"int64\" for t in x_train.dtypes]\n",
    "\n",
    "cat_names = x_train.columns[cat]\n",
    "num_names = x_train.columns[num]\n",
    "\n",
    "\n",
    "transformer = ColumnTransformer(\n",
    "     [(\"num\", StandardScaler(), num),\n",
    "      (\"cat\",  OneHotEncoder(handle_unknown=\"ignore\"), cat)],\n",
    ")\n",
    "\n",
    "x_train = transformer.fit_transform(x_train)\n",
    "x_test = transformer.transform(x_test)\n",
    "\n",
    "cat_names = transformer.transformers_[1][1].get_feature_names(cat_names)\n",
    "\n",
    "all_feature_names = list(num_names)\n",
    "all_feature_names.extend(cat_names)"
   ]
  },
  {
   "cell_type": "code",
   "execution_count": 19,
   "metadata": {},
   "outputs": [],
   "source": [
    "model = XGBClassifier()"
   ]
  },
  {
   "cell_type": "code",
   "execution_count": 20,
   "metadata": {},
   "outputs": [
    {
     "name": "stdout",
     "output_type": "stream",
     "text": [
      "Fitting 5 folds for each of 4 candidates, totalling 20 fits\n"
     ]
    },
    {
     "name": "stderr",
     "output_type": "stream",
     "text": [
      "[Parallel(n_jobs=4)]: Using backend LokyBackend with 4 concurrent workers.\n",
      "[Parallel(n_jobs=4)]: Done  20 out of  20 | elapsed: 20.4min finished\n"
     ]
    },
    {
     "data": {
      "text/plain": [
       "GridSearchCV(cv=5, error_score='raise-deprecating',\n",
       "       estimator=XGBClassifier(base_score=0.5, booster='gbtree', colsample_bylevel=1,\n",
       "       colsample_bytree=1, gamma=0, learning_rate=0.1, max_delta_step=0,\n",
       "       max_depth=3, min_child_weight=1, missing=None, n_estimators=100,\n",
       "       n_jobs=1, nthread=None, objective='binary:logistic', random_state=0,\n",
       "       reg_alpha=0, reg_lambda=1, scale_pos_weight=1, seed=None,\n",
       "       silent=True, subsample=1),\n",
       "       fit_params=None, iid=False, n_jobs=4,\n",
       "       param_grid={'n_estimators': [10, 100, 500, 1000]},\n",
       "       pre_dispatch='2*n_jobs', refit=True, return_train_score='warn',\n",
       "       scoring='roc_auc', verbose=1)"
      ]
     },
     "execution_count": 20,
     "metadata": {},
     "output_type": "execute_result"
    }
   ],
   "source": [
    "params1 = {\n",
    "    'n_estimators': [10, 100, 500, 1000]\n",
    "}\n",
    "\n",
    "gsearch1 = GridSearchCV(estimator=model,\n",
    "                        param_grid=params1,\n",
    "                        scoring='roc_auc',\n",
    "                        n_jobs=4,\n",
    "                        iid=False,\n",
    "                        cv=5,\n",
    "                        verbose=1)\n",
    "\n",
    "gsearch1.fit(x_train, y_train)\n",
    "gsearch1.best_params_, gsearch1.best_score_"
   ]
  },
  {
   "cell_type": "code",
   "execution_count": null,
   "metadata": {},
   "outputs": [],
   "source": [
    "model = XGBClassifier(\n",
    "n_estimators=100)"
   ]
  },
  {
   "cell_type": "code",
   "execution_count": 23,
   "metadata": {},
   "outputs": [
    {
     "name": "stdout",
     "output_type": "stream",
     "text": [
      "Fitting 5 folds for each of 12 candidates, totalling 60 fits\n"
     ]
    },
    {
     "name": "stderr",
     "output_type": "stream",
     "text": [
      "[Parallel(n_jobs=4)]: Using backend LokyBackend with 4 concurrent workers.\n",
      "[Parallel(n_jobs=4)]: Done  42 tasks      | elapsed: 10.0min\n",
      "[Parallel(n_jobs=4)]: Done  60 out of  60 | elapsed: 15.4min finished\n"
     ]
    },
    {
     "data": {
      "text/plain": [
       "({'max_depth': 5, 'min_child_weight': 3}, 0.6705384614097077)"
      ]
     },
     "execution_count": 23,
     "metadata": {},
     "output_type": "execute_result"
    }
   ],
   "source": [
    "params2 = {\n",
    "    'max_depth': range(3, 10, 2),\n",
    "    'min_child_weight': range(1, 6, 2)\n",
    "}\n",
    "\n",
    "gsearch2 = GridSearchCV(estimator=model,\n",
    "                        param_grid=params2,\n",
    "                        scoring='roc_auc',\n",
    "                        n_jobs=4,\n",
    "                        iid=False,\n",
    "                        cv=5,\n",
    "                        verbose=1)\n",
    "\n",
    "gsearch2.fit(x_train, y_train)\n",
    "gsearch2.best_params_, gsearch1.best_score_"
   ]
  },
  {
   "cell_type": "code",
   "execution_count": null,
   "metadata": {},
   "outputs": [],
   "source": [
    "model = XGBClassifier(\n",
    "    max_depth=5,\n",
    "    n_estimators=100,\n",
    "    min_child_weight=3)"
   ]
  },
  {
   "cell_type": "code",
   "execution_count": 24,
   "metadata": {},
   "outputs": [
    {
     "name": "stdout",
     "output_type": "stream",
     "text": [
      "Fitting 5 folds for each of 16 candidates, totalling 80 fits\n"
     ]
    },
    {
     "name": "stderr",
     "output_type": "stream",
     "text": [
      "[Parallel(n_jobs=4)]: Using backend LokyBackend with 4 concurrent workers.\n",
      "[Parallel(n_jobs=4)]: Done  42 tasks      | elapsed:  4.9min\n",
      "[Parallel(n_jobs=4)]: Done  80 out of  80 | elapsed: 10.2min finished\n"
     ]
    },
    {
     "data": {
      "text/plain": [
       "({'colsample_bytree': 0.7, 'subsample': 0.7}, 0.6705384614097077)"
      ]
     },
     "execution_count": 24,
     "metadata": {},
     "output_type": "execute_result"
    }
   ],
   "source": [
    "params3 = {\n",
    "    'subsample':[i/10.0 for i in range(6, 10)],\n",
    "    'colsample_bytree':[i/10.0 for i in range(6, 10)]\n",
    "}\n",
    "\n",
    "gsearch3 = GridSearchCV(estimator=model,\n",
    "                        param_grid=params3,\n",
    "                        scoring='roc_auc',\n",
    "                        n_jobs=4,\n",
    "                        iid=False,\n",
    "                        cv=5,\n",
    "                        verbose=1)\n",
    "\n",
    "gsearch3.fit(x_train, y_train)\n",
    "gsearch3.best_params_, gsearch1.best_score_"
   ]
  },
  {
   "cell_type": "code",
   "execution_count": 31,
   "metadata": {},
   "outputs": [
    {
     "name": "stdout",
     "output_type": "stream",
     "text": [
      "Fitting 5 folds for each of 9 candidates, totalling 45 fits\n"
     ]
    },
    {
     "name": "stderr",
     "output_type": "stream",
     "text": [
      "[Parallel(n_jobs=4)]: Using backend LokyBackend with 4 concurrent workers.\n",
      "[Parallel(n_jobs=4)]: Done  45 out of  45 | elapsed: 12.6min finished\n"
     ]
    },
    {
     "data": {
      "text/plain": [
       "({'colsample_bytree': 0.68, 'subsample': 0.63}, 0.6705384614097077)"
      ]
     },
     "execution_count": 31,
     "metadata": {},
     "output_type": "execute_result"
    }
   ],
   "source": [
    "params4 =  {\n",
    " 'subsample':[i/100.0 for i in range(58, 73, 5)],\n",
    " 'colsample_bytree':[i/100.0 for i in range(58, 73, 5)]\n",
    "}\n",
    "\n",
    "gsearch4 = GridSearchCV(estimator=model,\n",
    "                        param_grid=params4,\n",
    "                        scoring='roc_auc',\n",
    "                        n_jobs=4,\n",
    "                        iid=False,\n",
    "                        cv=5,\n",
    "                        verbose=1)\n",
    "\n",
    "gsearch4.fit(x_train, y_train)\n",
    "gsearch4.best_params_, gsearch1.best_score_"
   ]
  }
 ],
 "metadata": {
  "kernelspec": {
   "display_name": "Python 3",
   "language": "python",
   "name": "python3"
  },
  "language_info": {
   "codemirror_mode": {
    "name": "ipython",
    "version": 3
   },
   "file_extension": ".py",
   "mimetype": "text/x-python",
   "name": "python",
   "nbconvert_exporter": "python",
   "pygments_lexer": "ipython3",
   "version": "3.7.2"
  }
 },
 "nbformat": 4,
 "nbformat_minor": 2
}
